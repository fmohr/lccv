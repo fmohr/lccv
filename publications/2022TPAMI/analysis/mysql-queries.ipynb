{
 "cells": [
  {
   "cell_type": "markdown",
   "metadata": {},
   "source": [
    "# Progress Query\n",
    "## 200 - PP\n",
    "```sql\n",
    "SELECT total, open, CONCAT(ROUND(100 * open / total, 2), \"%\") as \"open (rel)\", running, CONCAT(ROUND(100 * running / total, 2), \"%\") as \"running (rel)\", finished, CONCAT(ROUND(100 * finished / total, 2), \"%\") as \"finished (rel)\", successful, failed, CONCAT(ROUND(100 * successful / (successful + failed), 2), \"%\") as \"success rate\", CONCAT(ROUND(avgRuntimeFinished), \"s\") as \"Average Time of Finished\", CONCAT(ROUND(avgRuntimeFinished * open / running), \"s\") as \"ETA\" FROM (SELECT \"aux\" as pk, COUNT(*) as \"open\" FROM `lccv_200_pp` WHERE time_started is null) as t1 NATURAL JOIN (SELECT \"aux\" as pk, COUNT(*) as \"running\" FROM `lccv_200_pp` WHERE time_started is not null and time_end is null) as t2 NATURAL JOIN (SELECT \"aux\" as pk, COUNT(*) as finished, AVG(TIMESTAMPDIFF(SECOND, time_started, time_end)) as avgRuntimeFinished  FROM `lccv_200_pp` WHERE time_started is not null and time_end is not null) as t3 NATURAL JOIN (SELECT \"aux\" as pk, COUNT(*) as successful FROM `lccv_200_pp` where time_end is not null and exception is null) as t4 NATURAL JOIN (SELECT \"aux\" as pk, COUNT(*) as failed FROM `lccv_200_pp` where exception is not null) as t5 NATURAL JOIN (SELECT \"aux\" as pk, COUNT(*) as total FROM `lccv_200_pp`) as t6\n",
    "```\n",
    "\n",
    "## 200 - NoPP\n",
    "```sql\n",
    "SELECT total, open, CONCAT(ROUND(100 * open / total, 2), \"%\") as \"open (rel)\", running, CONCAT(ROUND(100 * running / total, 2), \"%\") as \"running (rel)\", finished, CONCAT(ROUND(100 * finished / total, 2), \"%\") as \"finished (rel)\", successful, failed, CONCAT(ROUND(100 * successful / (successful + failed), 2), \"%\") as \"success rate\", CONCAT(ROUND(avgRuntimeFinished), \"s\") as \"Average Time of Finished\", CONCAT(ROUND(avgRuntimeFinished * open / running), \"s\") as \"ETA\" FROM (SELECT \"aux\" as pk, COUNT(*) as \"open\" FROM `lccv_200_nopp` WHERE time_started is null) as t1 NATURAL JOIN (SELECT \"aux\" as pk, COUNT(*) as \"running\" FROM `lccv_200_nopp` WHERE time_started is not null and time_end is null) as t2 NATURAL JOIN (SELECT \"aux\" as pk, COUNT(*) as finished, AVG(TIMESTAMPDIFF(SECOND, time_started, time_end)) as avgRuntimeFinished  FROM `lccv_200_nopp` WHERE time_started is not null and time_end is not null) as t3 NATURAL JOIN (SELECT \"aux\" as pk, COUNT(*) as successful FROM `lccv_200_nopp` where time_end is not null and exception is null) as t4 NATURAL JOIN (SELECT \"aux\" as pk, COUNT(*) as failed FROM `lccv_200_nopp` where exception is not null) as t5 NATURAL JOIN (SELECT \"aux\" as pk, COUNT(*) as total FROM `lccv_200_nopp`) as t6\n",
    "```"
   ]
  },
  {
   "cell_type": "markdown",
   "metadata": {},
   "source": [
    "# Failed Runs\n",
    "```sql\n",
    "SELECT *  FROM `lccv_200_pp` WHERE `exception` IS NOT NULL and openmlid not in(3, 31, 188, 1049, 1067, 1111, 1461, 1486, 1590, 4135, 4534, 4541, 40668, 40670, 40978, 41143, 41147, 41150, 42733)  \n",
    "ORDER BY `lccv_200_pp`.`openmlid` ASC\n",
    "```"
   ]
  },
  {
   "cell_type": "markdown",
   "metadata": {},
   "source": [
    "# Ordinary Result List\n",
    "## 200 - PP\n",
    "```sql\n",
    "SELECT openmlid, algorithm, round(avg(errorrate), 2), avg(runtime), count(*) FROM `lccv_200_pp` where time_end is not null and exception is null and algorithm in (\"5cv\", \"80lccv-flex\") group by openmlid, algorithm \n",
    "```\n",
    "\n",
    "## 200 - NoPP\n",
    "```sql\n",
    "SELECT openmlid, algorithm, round(avg(errorrate), 2), avg(runtime), count(*) FROM `lccv_200_nopp` where time_end is not null and exception is null and algorithm in (\"5cv\", \"80lccv\") group by openmlid, algorithm \n",
    "```"
   ]
  },
  {
   "cell_type": "markdown",
   "metadata": {},
   "source": [
    "#  High LCCV Deviations\n",
    "## 200 - PP\n",
    "```sql\n",
    "SELECT * FROM\n",
    "(SELECT openmlid, seed, errorrate as err_5cv, runtime as runtime_5cv, executor as exec_5cv FROM `lccv_200_pp` where time_end is not null and exception is null and algorithm = \"5cv\") as t1\n",
    "NATURAL JOIN\n",
    "(SELECT openmlid, seed, errorrate as err_80lccvflex, runtime as runtime_80lccvflex, executor as exec_80lccvflex FROM `lccv_200_pp` where time_end is not null and exception is null and algorithm = \"80lccv-flex\") as t3\n",
    "where runtime_5cv < runtime_80lccvflex\n",
    "\n",
    "```\n",
    "## 200 - NoPP\n",
    "```sql\n",
    "SELECT * FROM\n",
    "(SELECT openmlid, seed, errorrate as err_5cv, executor as exec_5cv FROM `lccv_200_nopp` where time_end is not null and exception is null and algorithm = \"5cv\") as t1\n",
    "NATURAL JOIN\n",
    "(SELECT openmlid, seed, errorrate as err_80lccv, executor as exec_80lccv FROM `lccv_200_nopp` where time_end is not null and exception is null and algorithm = \"80lccv\") as t2\n",
    "where abs(err_5cv - err_80lccv) >= 0.01\n",
    "```"
   ]
  },
  {
   "cell_type": "markdown",
   "metadata": {},
   "source": [
    "# Clean Failed Experiments\n",
    "```sql\n",
    "UPDATE `lccv` set host = null, executor = null, time_started = null, exception = null, time_end = null WHERE time_end is not null and exception is not null\n",
    "```"
   ]
  },
  {
   "cell_type": "code",
   "execution_count": null,
   "metadata": {},
   "outputs": [],
   "source": []
  }
 ],
 "metadata": {
  "kernelspec": {
   "display_name": "Python 3",
   "language": "python",
   "name": "python3"
  },
  "language_info": {
   "codemirror_mode": {
    "name": "ipython",
    "version": 3
   },
   "file_extension": ".py",
   "mimetype": "text/x-python",
   "name": "python",
   "nbconvert_exporter": "python",
   "pygments_lexer": "ipython3",
   "version": "3.7.7"
  }
 },
 "nbformat": 4,
 "nbformat_minor": 4
}
