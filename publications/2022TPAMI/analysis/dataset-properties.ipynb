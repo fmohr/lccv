{
 "cells": [
  {
   "cell_type": "code",
   "execution_count": 7,
   "metadata": {},
   "outputs": [],
   "source": [
    "import openml\n",
    "import numpy as np\n",
    "import pandas as pd\n",
    "from tqdm.notebook import tqdm"
   ]
  },
  {
   "cell_type": "code",
   "execution_count": 8,
   "metadata": {},
   "outputs": [
    {
     "data": {
      "application/vnd.jupyter.widget-view+json": {
       "model_id": "8a1972e98ad54ac699a069a952b1ae9a",
       "version_major": 2,
       "version_minor": 0
      },
      "text/plain": [
       "HBox(children=(FloatProgress(value=0.0, max=67.0), HTML(value='')))"
      ]
     },
     "metadata": {},
     "output_type": "display_data"
    },
    {
     "name": "stdout",
     "output_type": "stream",
     "text": [
      "\n"
     ]
    }
   ],
   "source": [
    "datasets = [1485, 1590, 1515, 1457, 1475, 1468, 1486, 1489, 23512, 23517, 4541, 4534, 4538, 4134, 4135, 40978, 40996, 41027, 40981, 40982, 40983, 40984, 40701, 40670, 40685, 40900,  1111, 42732, 42733, 42734, 40498, 41161, 41162, 41163, 41164, 41165, 41166, 41167, 41168, 41169, 41142, 41143, 41144, 41145, 41146, 41147, 41150, 41156, 41157, 41158,  41159, 41138, 54, 181, 188, 1461, 1494, 1464, 12, 23, 3, 1487, 40668, 1067, 1049, 40975, 31]\n",
    "rows = []\n",
    "for openmlid in tqdm(datasets):\n",
    "    \n",
    "    # load dataset object\n",
    "    dataset = openml.datasets.get_dataset(openmlid)\n",
    "    \n",
    "    # analyze columns of data\n",
    "    dfDataset = dataset.get_data()[0]\n",
    "    types = dfDataset.dtypes\n",
    "    cnt_normalized = 0\n",
    "    cnt_zero_mean = 0\n",
    "    cnt_one_std = 0\n",
    "    cnt_numerical = 0\n",
    "    for i, col in enumerate(dfDataset.columns):\n",
    "        if \"float\" in str(types[i]):\n",
    "            cnt_numerical += 1\n",
    "            vals = dfDataset[col].values\n",
    "            is_normalized = np.round(min(vals), 3) == 0 and np.round(max(vals), 3) == 1\n",
    "            is_zero_mean = np.round(np.mean(vals), 3) == 0\n",
    "            is_one_std = np.round(np.std(vals), 3) == 1\n",
    "            if is_normalized:\n",
    "                cnt_normalized += 1\n",
    "            if is_zero_mean:\n",
    "                cnt_zero_mean += 1\n",
    "            if is_one_std:\n",
    "                cnt_one_std += 1\n",
    "    if cnt_numerical > 0:\n",
    "        feature_stats_entries = [str(v) + \"\\%\" for v in np.round(100 * np.array([cnt_normalized / cnt_numerical, cnt_zero_mean / cnt_numerical, cnt_one_std / cnt_numerical]), 0).astype(int)]\n",
    "    else:\n",
    "        feature_stats_entries = 3 * [\"n/a\"]\n",
    "        \n",
    "    row = [openmlid, dataset.name[:20].replace(\"_\", \"\\\\_\"), int(dataset.qualities[\"NumberOfInstances\"]), len(dataset.features) - 1, int(dataset.qualities[\"NumberOfNumericFeatures\"]), int(dataset.qualities[\"NumberOfClasses\"]), str(int(dataset.qualities[\"MinorityClassPercentage\"])) + \"\\%\", str(int(dataset.qualities[\"MajorityClassPercentage\"])) + \"\\%\", str(int(dataset.qualities[\"PercentageOfMissingValues\"])) + \"\\%\"] + feature_stats_entries\n",
    "    rows.append(row)\n",
    "dfDatasets = pd.DataFrame(rows, columns=[\"openmlid\", \"name\", \"instances\", \"features\", \"numeric features\", \"classes\", \"min \\%\", \"maj \\%\", \"\\% missing\", \"\\% [0,1]\", \"\\% $\\mu = 0$\", \"\\% $\\sigma = 1$\"]).sort_values(\"openmlid\")"
   ]
  },
  {
   "cell_type": "code",
   "execution_count": 15,
   "metadata": {},
   "outputs": [
    {
     "data": {
      "text/plain": [
       "array([  188,  1111, 41138, 41147, 41162, 42734])"
      ]
     },
     "execution_count": 15,
     "metadata": {},
     "output_type": "execute_result"
    }
   ],
   "source": [
    "dfDatasets[dfDatasets[\"\\% missing\"] != \"0\\%\"][\"openmlid\"].values"
   ]
  },
  {
   "cell_type": "code",
   "execution_count": 14,
   "metadata": {},
   "outputs": [
    {
     "data": {
      "text/html": [
       "<div>\n",
       "<style scoped>\n",
       "    .dataframe tbody tr th:only-of-type {\n",
       "        vertical-align: middle;\n",
       "    }\n",
       "\n",
       "    .dataframe tbody tr th {\n",
       "        vertical-align: top;\n",
       "    }\n",
       "\n",
       "    .dataframe thead th {\n",
       "        text-align: right;\n",
       "    }\n",
       "</style>\n",
       "<table border=\"1\" class=\"dataframe\">\n",
       "  <thead>\n",
       "    <tr style=\"text-align: right;\">\n",
       "      <th></th>\n",
       "      <th>openmlid</th>\n",
       "      <th>name</th>\n",
       "      <th>instances</th>\n",
       "      <th>features</th>\n",
       "      <th>numeric features</th>\n",
       "      <th>classes</th>\n",
       "      <th>min \\%</th>\n",
       "      <th>maj \\%</th>\n",
       "      <th>\\% missing</th>\n",
       "      <th>\\% [0,1]</th>\n",
       "      <th>\\% $\\mu = 0$</th>\n",
       "      <th>\\% $\\sigma = 1$</th>\n",
       "    </tr>\n",
       "  </thead>\n",
       "  <tbody>\n",
       "    <tr>\n",
       "      <th>48</th>\n",
       "      <td>41157</td>\n",
       "      <td>arcene</td>\n",
       "      <td>100</td>\n",
       "      <td>10000</td>\n",
       "      <td>10000</td>\n",
       "      <td>2</td>\n",
       "      <td>44\\%</td>\n",
       "      <td>56\\%</td>\n",
       "      <td>0\\%</td>\n",
       "      <td>0\\%</td>\n",
       "      <td>1\\%</td>\n",
       "      <td>0\\%</td>\n",
       "    </tr>\n",
       "  </tbody>\n",
       "</table>\n",
       "</div>"
      ],
      "text/plain": [
       "    openmlid    name  instances  features  numeric features  classes min \\%  \\\n",
       "48     41157  arcene        100     10000             10000        2   44\\%   \n",
       "\n",
       "   maj \\% \\% missing \\% [0,1] \\% $\\mu = 0$ \\% $\\sigma = 1$  \n",
       "48   56\\%        0\\%      0\\%          1\\%             0\\%  "
      ]
     },
     "execution_count": 14,
     "metadata": {},
     "output_type": "execute_result"
    }
   ],
   "source": [
    "dfDatasets[dfDatasets[\"openmlid\"] == 41157]"
   ]
  }
 ],
 "metadata": {
  "kernelspec": {
   "display_name": "Python 3",
   "language": "python",
   "name": "python3"
  },
  "language_info": {
   "codemirror_mode": {
    "name": "ipython",
    "version": 3
   },
   "file_extension": ".py",
   "mimetype": "text/x-python",
   "name": "python",
   "nbconvert_exporter": "python",
   "pygments_lexer": "ipython3",
   "version": "3.7.7"
  }
 },
 "nbformat": 4,
 "nbformat_minor": 4
}
