{
 "cells": [
  {
   "cell_type": "code",
   "execution_count": 31,
   "metadata": {},
   "outputs": [],
   "source": [
    "import openml\n",
    "import numpy as np\n",
    "import pandas as pd\n",
    "from tqdm.notebook import tqdm\n",
    "\n",
    "\n",
    "import warnings\n",
    "warnings.filterwarnings(\"ignore\") # no warnings on the console"
   ]
  },
  {
   "cell_type": "code",
   "execution_count": 32,
   "metadata": {},
   "outputs": [
    {
     "data": {
      "application/vnd.jupyter.widget-view+json": {
       "model_id": "b0337dcafea14a61a4c4fceea1bdde82",
       "version_major": 2,
       "version_minor": 0
      },
      "text/plain": [
       "  0%|          | 0/77 [00:00<?, ?it/s]"
      ]
     },
     "metadata": {},
     "output_type": "display_data"
    }
   ],
   "source": [
    "datasets = sorted(pd.unique(pd.read_csv(\"../results/results_randomsearch.csv\", usecols=[\"openmlid\"])[\"openmlid\"]))\n",
    "rows = []\n",
    "for openmlid in tqdm(datasets):\n",
    "    \n",
    "    # load dataset object\n",
    "    dataset = openml.datasets.get_dataset(int(openmlid))\n",
    "    \n",
    "    # analyze columns of data\n",
    "    cnt_normalized = 0\n",
    "    cnt_zero_mean = 0\n",
    "    cnt_one_std = 0\n",
    "    cnt_numerical = 0\n",
    "    row = [\n",
    "        openmlid,\n",
    "        dataset.name[:20].replace(\"_\", \"\\\\_\"),\n",
    "        int(dataset.qualities[\"NumberOfInstances\"]),\n",
    "        len(dataset.features) - 1,\n",
    "        int(dataset.qualities[\"NumberOfNumericFeatures\"]),\n",
    "        int(dataset.qualities[\"NumberOfClasses\"]),\n",
    "        str(int(dataset.qualities[\"MinorityClassPercentage\"]) if dataset.qualities[\"MinorityClassPercentage\"] != \"NaN\" in dataset.qualities else np.nan) + \"\\%\",\n",
    "        str(int(dataset.qualities[\"MajorityClassPercentage\"])if dataset.qualities[\"MajorityClassPercentage\"] != \"NaN\" in dataset.qualities else np.nan) + \"\\%\"\n",
    "    ]\n",
    "    rows.append(row)\n",
    "dfDatasets = pd.DataFrame(rows, columns=[\"openmlid\", \"name\", \"instances\", \"features\", \"numeric features\", \"classes\", \"min \\%\", \"maj \\%\"]).sort_values(\"openmlid\")"
   ]
  },
  {
   "cell_type": "code",
   "execution_count": 35,
   "metadata": {},
   "outputs": [
    {
     "name": "stdout",
     "output_type": "stream",
     "text": [
      "\\begin{tabular}{rlrrrrllr}\n",
      "\\toprule\n",
      " openmlid &                    name &  instances &  features &  numeric features &  classes & min \\% & maj \\% &  matrix size (in thds.) \\\\\n",
      "\\midrule\n",
      "        3 &                kr-vs-kp &       3196 &        36 &                 0 &        2 &  nan\\% &  nan\\% &                     115 \\\\\n",
      "        6 &                  letter &      20000 &        16 &                16 &       26 &  nan\\% &  nan\\% &                     320 \\\\\n",
      "       11 &           balance-scale &        625 &         4 &                 4 &        3 &  nan\\% &  nan\\% &                       2 \\\\\n",
      "       12 &           mfeat-factors &       2000 &       216 &               216 &       10 &  nan\\% &  nan\\% &                     432 \\\\\n",
      "       23 &                     cmc &       1473 &         9 &                 2 &        3 &  nan\\% &  nan\\% &                      13 \\\\\n",
      "       30 &             page-blocks &       5473 &        10 &                10 &        5 &  nan\\% &  nan\\% &                      54 \\\\\n",
      "       31 &                credit-g &       1000 &        20 &                 7 &        2 &  nan\\% &  nan\\% &                      20 \\\\\n",
      "       54 &                 vehicle &        846 &        18 &                18 &        4 &  nan\\% &  nan\\% &                      15 \\\\\n",
      "       60 &           waveform-5000 &       5000 &        40 &                40 &        3 &  nan\\% &  nan\\% &                     200 \\\\\n",
      "      181 &                   yeast &       1484 &         8 &                 8 &       10 &  nan\\% &  nan\\% &                      11 \\\\\n",
      "      188 &              eucalyptus &        736 &        19 &                14 &        5 &  nan\\% &  nan\\% &                      13 \\\\\n",
      "      201 &                     pol &      15000 &        48 &                49 &        0 &  nan\\% &  nan\\% &                     720 \\\\\n",
      "     1042 &             gina\\_prior &       3468 &       784 &               784 &        2 &  nan\\% &  nan\\% &                    2718 \\\\\n",
      "     1049 &                     pc4 &       1458 &        37 &                37 &        2 &  nan\\% &  nan\\% &                      53 \\\\\n",
      "     1067 &                     kc1 &       2109 &        21 &                21 &        2 &  nan\\% &  nan\\% &                      44 \\\\\n",
      "     1111 &     KDDCup09\\_appetency &      50000 &       230 &               192 &        2 &  nan\\% &  nan\\% &                   11500 \\\\\n",
      "     1457 &    amazon-commerce-revi &       1500 &     10000 &             10000 &       50 &  nan\\% &  nan\\% &                   15000 \\\\\n",
      "     1461 &          bank-marketing &      45211 &        16 &                 7 &        2 &  nan\\% &  nan\\% &                     723 \\\\\n",
      "     1464 &    blood-transfusion-se &        748 &         4 &                 4 &        2 &  nan\\% &  nan\\% &                       2 \\\\\n",
      "     1468 &                  cnae-9 &       1080 &       856 &               856 &        9 &  nan\\% &  nan\\% &                     924 \\\\\n",
      "     1475 &    first-order-theorem- &       6118 &        51 &                51 &        6 &  nan\\% &  nan\\% &                     312 \\\\\n",
      "     1477 &    gas-drift-different- &      13910 &       129 &               129 &        6 &  nan\\% &  nan\\% &                    1794 \\\\\n",
      "     1479 &             hill-valley &       1212 &       100 &               100 &        2 &  nan\\% &  nan\\% &                     121 \\\\\n",
      "     1485 &                 madelon &       2600 &       500 &               500 &        2 &  nan\\% &  nan\\% &                    1300 \\\\\n",
      "     1486 &                   nomao &      34465 &       118 &                89 &        2 &  nan\\% &  nan\\% &                    4066 \\\\\n",
      "     1487 &         ozone-level-8hr &       2534 &        72 &                72 &        2 &  nan\\% &  nan\\% &                     182 \\\\\n",
      "     1489 &                 phoneme &       5404 &         5 &                 5 &        2 &  nan\\% &  nan\\% &                      27 \\\\\n",
      "     1494 &             qsar-biodeg &       1055 &        41 &                41 &        2 &  nan\\% &  nan\\% &                      43 \\\\\n",
      "     1515 &              micro-mass &        571 &      1300 &              1300 &       20 &  nan\\% &  nan\\% &                     742 \\\\\n",
      "     1590 &                   adult &      48842 &        14 &                 6 &        2 &  nan\\% &  nan\\% &                     683 \\\\\n",
      "     1591 &               connect-4 &      67557 &       126 &               127 &        0 &  nan\\% &  nan\\% &                    8512 \\\\\n",
      "     4134 &             Bioresponse &       3751 &      1776 &              1776 &        2 &  nan\\% &  nan\\% &                    6661 \\\\\n",
      "     4135 &  Amazon\\_employee\\_acce &      32769 &         9 &                 0 &        2 &  nan\\% &  nan\\% &                     294 \\\\\n",
      "     4534 &        PhishingWebsites &      11055 &        30 &                 0 &        2 &  nan\\% &  nan\\% &                     331 \\\\\n",
      "     4538 &    GesturePhaseSegmenta &       9873 &        32 &                32 &        5 &  nan\\% &  nan\\% &                     315 \\\\\n",
      "     4541 &           Diabetes130US &     101766 &        49 &                13 &        3 &  nan\\% &  nan\\% &                    4986 \\\\\n",
      "    23512 &                   higgs &      98050 &        28 &                28 &        2 &  nan\\% &  nan\\% &                    2745 \\\\\n",
      "    23517 &             numerai28.6 &      96320 &        21 &                21 &        2 &  nan\\% &  nan\\% &                    2022 \\\\\n",
      "    40498 &      wine-quality-white &       4898 &        11 &                11 &        7 &  nan\\% &  nan\\% &                      53 \\\\\n",
      "    40668 &               connect-4 &      67557 &        42 &                 0 &        3 &  nan\\% &  nan\\% &                    2837 \\\\\n",
      "    40670 &                     dna &       3186 &       180 &                 0 &        3 &  nan\\% &  nan\\% &                     573 \\\\\n",
      "    40685 &                 shuttle &      58000 &         9 &                 9 &        7 &  nan\\% &  nan\\% &                     522 \\\\\n",
      "    40701 &                   churn &       5000 &        20 &                16 &        2 &  nan\\% &  nan\\% &                     100 \\\\\n",
      "    40900 &               Satellite &       5100 &        36 &                36 &        2 &  nan\\% &  nan\\% &                     183 \\\\\n",
      "    40975 &                     car &       1728 &         6 &                 0 &        4 &  nan\\% &  nan\\% &                      10 \\\\\n",
      "    40978 &    Internet-Advertiseme &       3279 &      1558 &                 3 &        2 &  nan\\% &  nan\\% &                    5108 \\\\\n",
      "    40981 &              Australian &        690 &        14 &                 6 &        2 &  nan\\% &  nan\\% &                       9 \\\\\n",
      "    40982 &      steel-plates-fault &       1941 &        27 &                27 &        7 &  nan\\% &  nan\\% &                      52 \\\\\n",
      "    40983 &                    wilt &       4839 &         5 &                 5 &        2 &  nan\\% &  nan\\% &                      24 \\\\\n",
      "    40984 &                 segment &       2310 &        19 &                19 &        7 &  nan\\% &  nan\\% &                      43 \\\\\n",
      "    40996 &           Fashion-MNIST &      70000 &       784 &               784 &       10 &  nan\\% &  nan\\% &                   54880 \\\\\n",
      "    41027 & jungle\\_chess\\_2pcs\\_ra &      44819 &         6 &                 6 &        3 &  nan\\% &  nan\\% &                     268 \\\\\n",
      "    41138 &              APSFailure &      76000 &       170 &               170 &        2 &  nan\\% &  nan\\% &                   12920 \\\\\n",
      "    41142 &               christine &       5418 &      1636 &              1599 &        2 &  nan\\% &  nan\\% &                    8863 \\\\\n",
      "    41143 &                 jasmine &       2984 &       144 &                 8 &        2 &  nan\\% &  nan\\% &                     429 \\\\\n",
      "    41144 &                madeline &       3140 &       259 &               259 &        2 &  nan\\% &  nan\\% &                     813 \\\\\n",
      "    41145 &              philippine &       5832 &       308 &               308 &        2 &  nan\\% &  nan\\% &                    1796 \\\\\n",
      "    41146 &                 sylvine &       5124 &        20 &                20 &        2 &  nan\\% &  nan\\% &                     102 \\\\\n",
      "    41147 &                  albert &     425240 &        78 &                26 &        2 &  nan\\% &  nan\\% &                   33168 \\\\\n",
      "    41150 &               MiniBooNE &     130064 &        50 &                50 &        2 &  nan\\% &  nan\\% &                    6503 \\\\\n",
      "    41156 &                     ada &       4147 &        48 &                48 &        2 &  nan\\% &  nan\\% &                     199 \\\\\n",
      "    41158 &                    gina &       3153 &       970 &               970 &        2 &  nan\\% &  nan\\% &                    3058 \\\\\n",
      "    41159 &               guillermo &      20000 &      4296 &              4296 &        2 &  nan\\% &  nan\\% &                   85920 \\\\\n",
      "    41161 &                riccardo &      20000 &      4296 &              4296 &        2 &  nan\\% &  nan\\% &                   85920 \\\\\n",
      "    41162 &                    kick &      72983 &        32 &                14 &        2 &  nan\\% &  nan\\% &                    2335 \\\\\n",
      "    41163 &                 dilbert &      10000 &      2000 &              2000 &        5 &  nan\\% &  nan\\% &                   20000 \\\\\n",
      "    41164 &                  fabert &       8237 &       800 &               800 &        7 &  nan\\% &  nan\\% &                    6589 \\\\\n",
      "    41165 &                  robert &      10000 &      7200 &              7200 &       10 &  nan\\% &  nan\\% &                   72000 \\\\\n",
      "    41166 &                 volkert &      58310 &       180 &               180 &       10 &  nan\\% &  nan\\% &                   10495 \\\\\n",
      "    41167 &                  dionis &     416188 &        60 &                60 &      355 &  nan\\% &  nan\\% &                   24971 \\\\\n",
      "    41168 &                  jannis &      83733 &        54 &                54 &        4 &  nan\\% &  nan\\% &                    4521 \\\\\n",
      "    41169 &                  helena &      65196 &        27 &                27 &      100 &  nan\\% &  nan\\% &                    1760 \\\\\n",
      "    42732 &     sf-police-incidents &    2215023 &         9 &                 3 &        2 &  nan\\% &  nan\\% &                   19935 \\\\\n",
      "    42733 &  Click\\_prediction\\_sma &      39948 &        11 &                 5 &        2 &  nan\\% &  nan\\% &                     439 \\\\\n",
      "    42734 &            okcupid-stem &      50789 &        19 &                 2 &        3 &  nan\\% &  nan\\% &                     964 \\\\\n",
      "    42809 &                    kits &       1000 &     27648 &             27648 &        2 &  nan\\% &  nan\\% &                   27648 \\\\\n",
      "    42810 &                    PCam &       4000 &     27648 &             27648 &        2 &  nan\\% &  nan\\% &                  110592 \\\\\n",
      "\\bottomrule\n",
      "\\end{tabular}\n",
      "\n"
     ]
    }
   ],
   "source": [
    "dfDatasets[\"matrix size (in thds.)\"] = (dfDatasets[\"instances\"] * dfDatasets[\"features\"] / 1000).astype(int)\n",
    "print(dfDatasets.to_latex(index=False, escape=False))"
   ]
  }
 ],
 "metadata": {
  "kernelspec": {
   "display_name": "Python 3 (ipykernel)",
   "language": "python",
   "name": "python3"
  },
  "language_info": {
   "codemirror_mode": {
    "name": "ipython",
    "version": 3
   },
   "file_extension": ".py",
   "mimetype": "text/x-python",
   "name": "python",
   "nbconvert_exporter": "python",
   "pygments_lexer": "ipython3",
   "version": "3.10.11"
  }
 },
 "nbformat": 4,
 "nbformat_minor": 4
}
