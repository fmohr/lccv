{
 "cells": [
  {
   "cell_type": "markdown",
   "metadata": {},
   "source": [
    "This is a collection of openmlids with potentially interesting learning curves.\n",
    "\n",
    "### Unsaturated learning curves (many learners still learning at 90% of the data)\n",
    "- 1457 (amazon)\n",
    "\n",
    "### Large datasets in which 90% folds cannot be evaluated within 1m\n",
    "- 41166\n",
    "- \n",
    "\n",
    "### Datasets with Initial Plateaus\n",
    "- 1485 (Decision Trees Drop only after ...)"
   ]
  }
 ],
 "metadata": {
  "kernelspec": {
   "display_name": "Python 3",
   "language": "python",
   "name": "python3"
  },
  "language_info": {
   "codemirror_mode": {
    "name": "ipython",
    "version": 3
   },
   "file_extension": ".py",
   "mimetype": "text/x-python",
   "name": "python",
   "nbconvert_exporter": "python",
   "pygments_lexer": "ipython3",
   "version": "3.7.7"
  }
 },
 "nbformat": 4,
 "nbformat_minor": 4
}
