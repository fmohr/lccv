{
 "cells": [
  {
   "cell_type": "code",
   "execution_count": 1,
   "metadata": {},
   "outputs": [],
   "source": [
    "import matplotlib.pyplot as plt\n",
    "from lccv import lccv\n",
    "from evalutils import *"
   ]
  },
  {
   "cell_type": "code",
   "execution_count": 2,
   "metadata": {},
   "outputs": [],
   "source": [
    "datasets_dense = [1457, 1485, 1515, 1475, 1468, 1489, 23512, 23517, 40981, 40982, 40983, 40984, 40701, 40685, 40900,  1111, 40498, 41161, 41162, 41163, 41164, 41165, 41166, 41167, 41168, 41169, 41142, 41143, 41144, 41145, 41146, 41150, 41156, 41157, 41158,  41159, 41138, 54, 181, 188, 1461, 1494, 1464, 12, 23, 3, 1487, 40668, 1067, 1049, 40975, 31]\n",
    "datasets_sparse = [1590, 1486, 4534, 4541, 4538, 4134, 4135, 40978, 40996, 41027, 40670, 42732, 42733, 42734, 41147]\n",
    "datasets = datasets_dense"
   ]
  },
  {
   "cell_type": "code",
   "execution_count": 3,
   "metadata": {},
   "outputs": [
    {
     "data": {
      "text/plain": [
       "(150, 4)"
      ]
     },
     "execution_count": 3,
     "metadata": {},
     "output_type": "execute_result"
    }
   ],
   "source": [
    "#openmlid = 23512\n",
    "openmlid = 61\n",
    "X, y = get_dataset(openmlid)\n",
    "X.shape"
   ]
  },
  {
   "cell_type": "code",
   "execution_count": 4,
   "metadata": {
    "scrolled": true
   },
   "outputs": [
    {
     "data": {
      "application/vnd.jupyter.widget-view+json": {
       "model_id": "e397a50870de48f1b314b3bd6ee2c12e",
       "version_major": 2,
       "version_minor": 0
      },
      "text/plain": [
       "HBox(children=(FloatProgress(value=0.0, max=17.0), HTML(value='')))"
      ]
     },
     "metadata": {},
     "output_type": "display_data"
    },
    {
     "name": "stdout",
     "output_type": "stream",
     "text": [
      "Checking learner <class 'sklearn.svm._classes.LinearSVC'>\n",
      "Running LCCV with timeout 5\n",
      "Setting target size to 135.0 as 90% of the original dataset.\n",
      "6 6 [4, 1]\n"
     ]
    },
    {
     "data": {
      "application/vnd.jupyter.widget-view+json": {
       "model_id": "0b930572c71e48eb9cd1591537501a7b",
       "version_major": 2,
       "version_minor": 0
      },
      "text/plain": [
       "HBox(children=(FloatProgress(value=0.0, max=1.0), HTML(value='')))"
      ]
     },
     "metadata": {},
     "output_type": "display_data"
    },
    {
     "name": "stdout",
     "output_type": "stream",
     "text": [
      "Running stage for 64 examples. At most 4 evaluations will be allowed.\n",
      "Obtained low-variance result for stage 6\n",
      "1\n",
      "slopes: []\n",
      "Obtained stable result for stage 6\n",
      "\n",
      "Observed score 0.023255813953488413 for <class 'sklearn.svm._classes.LinearSVC'>\n",
      "r is now: 0.023255813953488413\n",
      "Checking learner <class 'sklearn.tree._classes.DecisionTreeClassifier'>\n",
      "Running LCCV with timeout 5\n",
      "Setting target size to 135.0 as 90% of the original dataset.\n",
      "6 6 [4, 1]\n"
     ]
    },
    {
     "name": "stderr",
     "output_type": "stream",
     "text": [
      "/home/felix/anaconda3/lib/python3.7/site-packages/sklearn/svm/_base.py:986: ConvergenceWarning: Liblinear failed to converge, increase the number of iterations.\n",
      "  \"the number of iterations.\", ConvergenceWarning)\n",
      "/home/felix/anaconda3/lib/python3.7/site-packages/sklearn/svm/_base.py:986: ConvergenceWarning: Liblinear failed to converge, increase the number of iterations.\n",
      "  \"the number of iterations.\", ConvergenceWarning)\n",
      "/home/felix/anaconda3/lib/python3.7/site-packages/sklearn/svm/_base.py:986: ConvergenceWarning: Liblinear failed to converge, increase the number of iterations.\n",
      "  \"the number of iterations.\", ConvergenceWarning)\n"
     ]
    },
    {
     "data": {
      "application/vnd.jupyter.widget-view+json": {
       "model_id": "23a2526b99f24217821c3ef0a8dc51c0",
       "version_major": 2,
       "version_minor": 0
      },
      "text/plain": [
       "HBox(children=(FloatProgress(value=0.0, max=1.0), HTML(value='')))"
      ]
     },
     "metadata": {},
     "output_type": "display_data"
    },
    {
     "name": "stdout",
     "output_type": "stream",
     "text": [
      "Running stage for 64 examples. At most 4 evaluations will be allowed.\n",
      "Obtained low-variance result for stage 6\n",
      "1\n",
      "slopes: []\n",
      "Obtained stable result for stage 6\n",
      "\n",
      "Observed score 0.03488372093023251 for <class 'sklearn.tree._classes.DecisionTreeClassifier'>\n",
      "r is now: 0.023255813953488413\n",
      "Checking learner <class 'sklearn.tree._classes.ExtraTreeClassifier'>\n",
      "Running LCCV with timeout 5\n",
      "Setting target size to 135.0 as 90% of the original dataset.\n",
      "6 6 [4, 1]\n"
     ]
    },
    {
     "data": {
      "application/vnd.jupyter.widget-view+json": {
       "model_id": "5b8c489ba3864f8b87e142cc56610bde",
       "version_major": 2,
       "version_minor": 0
      },
      "text/plain": [
       "HBox(children=(FloatProgress(value=0.0, max=1.0), HTML(value='')))"
      ]
     },
     "metadata": {},
     "output_type": "display_data"
    },
    {
     "name": "stdout",
     "output_type": "stream",
     "text": [
      "Running stage for 64 examples. At most 4 evaluations will be allowed.\n",
      "Obtained low-variance result for stage 6\n",
      "1\n",
      "slopes: []\n",
      "Obtained stable result for stage 6\n",
      "\n",
      "Observed score 0.0755813953488372 for <class 'sklearn.tree._classes.ExtraTreeClassifier'>\n",
      "r is now: 0.023255813953488413\n",
      "Checking learner <class 'sklearn.linear_model._logistic.LogisticRegression'>\n",
      "Running LCCV with timeout 5\n",
      "Setting target size to 135.0 as 90% of the original dataset.\n",
      "6 6 [4, 1]\n"
     ]
    },
    {
     "data": {
      "application/vnd.jupyter.widget-view+json": {
       "model_id": "0d2ea91a5902425db4c82d78fb4fbc19",
       "version_major": 2,
       "version_minor": 0
      },
      "text/plain": [
       "HBox(children=(FloatProgress(value=0.0, max=1.0), HTML(value='')))"
      ]
     },
     "metadata": {},
     "output_type": "display_data"
    },
    {
     "name": "stdout",
     "output_type": "stream",
     "text": [
      "Running stage for 64 examples. At most 4 evaluations will be allowed.\n",
      "Obtained low-variance result for stage 6\n",
      "1\n",
      "slopes: []\n",
      "Obtained stable result for stage 6\n",
      "\n",
      "Observed score 0.06976744186046513 for <class 'sklearn.linear_model._logistic.LogisticRegression'>\n",
      "r is now: 0.023255813953488413\n",
      "Checking learner <class 'sklearn.linear_model._passive_aggressive.PassiveAggressiveClassifier'>\n",
      "Running LCCV with timeout 5\n",
      "Setting target size to 135.0 as 90% of the original dataset.\n",
      "6 6 [4, 1]\n"
     ]
    },
    {
     "data": {
      "application/vnd.jupyter.widget-view+json": {
       "model_id": "ec3373a2e67340b590cfc5adfe679470",
       "version_major": 2,
       "version_minor": 0
      },
      "text/plain": [
       "HBox(children=(FloatProgress(value=0.0, max=1.0), HTML(value='')))"
      ]
     },
     "metadata": {},
     "output_type": "display_data"
    },
    {
     "name": "stdout",
     "output_type": "stream",
     "text": [
      "Running stage for 64 examples. At most 4 evaluations will be allowed.\n",
      "Obtained low-variance result for stage 6\n",
      "1\n",
      "slopes: []\n",
      "Obtained stable result for stage 6\n",
      "\n",
      "Observed score 0.2616279069767442 for <class 'sklearn.linear_model._passive_aggressive.PassiveAggressiveClassifier'>\n",
      "r is now: 0.023255813953488413\n",
      "Checking learner <class 'sklearn.linear_model._perceptron.Perceptron'>\n",
      "Running LCCV with timeout 5\n",
      "Setting target size to 135.0 as 90% of the original dataset.\n",
      "6 6 [4, 1]\n"
     ]
    },
    {
     "data": {
      "application/vnd.jupyter.widget-view+json": {
       "model_id": "2099c4efc234498ab515ba6c4c60c149",
       "version_major": 2,
       "version_minor": 0
      },
      "text/plain": [
       "HBox(children=(FloatProgress(value=0.0, max=1.0), HTML(value='')))"
      ]
     },
     "metadata": {},
     "output_type": "display_data"
    },
    {
     "name": "stdout",
     "output_type": "stream",
     "text": [
      "Running stage for 64 examples. At most 4 evaluations will be allowed.\n",
      "Obtained low-variance result for stage 6\n",
      "1\n",
      "slopes: []\n",
      "Obtained stable result for stage 6\n",
      "\n",
      "Observed score 0.313953488372093 for <class 'sklearn.linear_model._perceptron.Perceptron'>\n",
      "r is now: 0.023255813953488413\n",
      "Checking learner <class 'sklearn.linear_model._ridge.RidgeClassifier'>\n",
      "Running LCCV with timeout 5\n",
      "Setting target size to 135.0 as 90% of the original dataset.\n",
      "6 6 [4, 1]\n"
     ]
    },
    {
     "data": {
      "application/vnd.jupyter.widget-view+json": {
       "model_id": "f265008b3b7341b983b37720607965f1",
       "version_major": 2,
       "version_minor": 0
      },
      "text/plain": [
       "HBox(children=(FloatProgress(value=0.0, max=1.0), HTML(value='')))"
      ]
     },
     "metadata": {},
     "output_type": "display_data"
    },
    {
     "name": "stdout",
     "output_type": "stream",
     "text": [
      "Running stage for 64 examples. At most 4 evaluations will be allowed.\n",
      "Obtained low-variance result for stage 6\n",
      "1\n",
      "slopes: []\n",
      "Obtained stable result for stage 6\n",
      "\n",
      "Observed score 0.2093023255813954 for <class 'sklearn.linear_model._ridge.RidgeClassifier'>\n",
      "r is now: 0.023255813953488413\n",
      "Checking learner <class 'sklearn.linear_model._stochastic_gradient.SGDClassifier'>\n",
      "Running LCCV with timeout 5\n",
      "Setting target size to 135.0 as 90% of the original dataset.\n",
      "6 6 [4, 1]\n"
     ]
    },
    {
     "data": {
      "application/vnd.jupyter.widget-view+json": {
       "model_id": "b9efd6736385435888b7797ee29e1a62",
       "version_major": 2,
       "version_minor": 0
      },
      "text/plain": [
       "HBox(children=(FloatProgress(value=0.0, max=1.0), HTML(value='')))"
      ]
     },
     "metadata": {},
     "output_type": "display_data"
    },
    {
     "name": "stdout",
     "output_type": "stream",
     "text": [
      "Running stage for 64 examples. At most 4 evaluations will be allowed.\n",
      "Obtained low-variance result for stage 6\n",
      "1\n",
      "slopes: []\n",
      "Obtained stable result for stage 6\n",
      "\n",
      "Observed score 0.17732558139534885 for <class 'sklearn.linear_model._stochastic_gradient.SGDClassifier'>\n",
      "r is now: 0.023255813953488413\n",
      "Checking learner <class 'sklearn.neural_network._multilayer_perceptron.MLPClassifier'>\n",
      "Running LCCV with timeout 5\n",
      "Setting target size to 135.0 as 90% of the original dataset.\n",
      "6 6 [4, 1]\n"
     ]
    },
    {
     "data": {
      "application/vnd.jupyter.widget-view+json": {
       "model_id": "9096f62e963b46b788dd7a6a4559cb82",
       "version_major": 2,
       "version_minor": 0
      },
      "text/plain": [
       "HBox(children=(FloatProgress(value=0.0, max=1.0), HTML(value='')))"
      ]
     },
     "metadata": {},
     "output_type": "display_data"
    },
    {
     "name": "stdout",
     "output_type": "stream",
     "text": [
      "Running stage for 64 examples. At most 4 evaluations will be allowed.\n"
     ]
    },
    {
     "name": "stderr",
     "output_type": "stream",
     "text": [
      "/home/felix/anaconda3/lib/python3.7/site-packages/sklearn/neural_network/_multilayer_perceptron.py:617: ConvergenceWarning: Stochastic Optimizer: Maximum iterations (200) reached and the optimization hasn't converged yet.\n",
      "  % self.max_iter, ConvergenceWarning)\n",
      "/home/felix/anaconda3/lib/python3.7/site-packages/sklearn/neural_network/_multilayer_perceptron.py:617: ConvergenceWarning: Stochastic Optimizer: Maximum iterations (200) reached and the optimization hasn't converged yet.\n",
      "  % self.max_iter, ConvergenceWarning)\n",
      "/home/felix/anaconda3/lib/python3.7/site-packages/sklearn/neural_network/_multilayer_perceptron.py:617: ConvergenceWarning: Stochastic Optimizer: Maximum iterations (200) reached and the optimization hasn't converged yet.\n",
      "  % self.max_iter, ConvergenceWarning)\n"
     ]
    },
    {
     "name": "stdout",
     "output_type": "stream",
     "text": [
      "Obtained low-variance result for stage 6\n",
      "1\n",
      "slopes: []\n",
      "Obtained stable result for stage 6\n",
      "\n",
      "Observed score 0.014534883720930258 for <class 'sklearn.neural_network._multilayer_perceptron.MLPClassifier'>\n",
      "r is now: 0.014534883720930258\n",
      "Checking learner <class 'sklearn.discriminant_analysis.LinearDiscriminantAnalysis'>\n",
      "Running LCCV with timeout 5\n",
      "Setting target size to 135.0 as 90% of the original dataset.\n",
      "6 6 [4, 1]\n"
     ]
    },
    {
     "name": "stderr",
     "output_type": "stream",
     "text": [
      "/home/felix/anaconda3/lib/python3.7/site-packages/sklearn/neural_network/_multilayer_perceptron.py:617: ConvergenceWarning: Stochastic Optimizer: Maximum iterations (200) reached and the optimization hasn't converged yet.\n",
      "  % self.max_iter, ConvergenceWarning)\n"
     ]
    },
    {
     "data": {
      "application/vnd.jupyter.widget-view+json": {
       "model_id": "823bec41624a4d5086e9e292888c49dc",
       "version_major": 2,
       "version_minor": 0
      },
      "text/plain": [
       "HBox(children=(FloatProgress(value=0.0, max=1.0), HTML(value='')))"
      ]
     },
     "metadata": {},
     "output_type": "display_data"
    },
    {
     "name": "stdout",
     "output_type": "stream",
     "text": [
      "Running stage for 64 examples. At most 4 evaluations will be allowed.\n",
      "Obtained low-variance result for stage 6\n",
      "1\n",
      "slopes: []\n",
      "Obtained stable result for stage 6\n",
      "\n",
      "Observed score 0.03488372093023251 for <class 'sklearn.discriminant_analysis.LinearDiscriminantAnalysis'>\n",
      "r is now: 0.014534883720930258\n",
      "Checking learner <class 'sklearn.discriminant_analysis.QuadraticDiscriminantAnalysis'>\n",
      "Running LCCV with timeout 5\n",
      "Setting target size to 135.0 as 90% of the original dataset.\n",
      "6 6 [4, 1]\n"
     ]
    },
    {
     "data": {
      "application/vnd.jupyter.widget-view+json": {
       "model_id": "07f3c25460834f13aaac525cb32733ff",
       "version_major": 2,
       "version_minor": 0
      },
      "text/plain": [
       "HBox(children=(FloatProgress(value=0.0, max=1.0), HTML(value='')))"
      ]
     },
     "metadata": {},
     "output_type": "display_data"
    },
    {
     "name": "stdout",
     "output_type": "stream",
     "text": [
      "Running stage for 64 examples. At most 4 evaluations will be allowed.\n",
      "Obtained low-variance result for stage 6\n",
      "1\n",
      "slopes: []\n",
      "Obtained stable result for stage 6\n",
      "\n",
      "Observed score 0.03488372093023251 for <class 'sklearn.discriminant_analysis.QuadraticDiscriminantAnalysis'>\n",
      "r is now: 0.014534883720930258\n",
      "Checking learner <class 'sklearn.naive_bayes.BernoulliNB'>\n",
      "Running LCCV with timeout 5\n",
      "Setting target size to 135.0 as 90% of the original dataset.\n",
      "6 6 [4, 1]\n"
     ]
    },
    {
     "data": {
      "application/vnd.jupyter.widget-view+json": {
       "model_id": "a61ea05bc33740699382c03a28950e2c",
       "version_major": 2,
       "version_minor": 0
      },
      "text/plain": [
       "HBox(children=(FloatProgress(value=0.0, max=1.0), HTML(value='')))"
      ]
     },
     "metadata": {},
     "output_type": "display_data"
    },
    {
     "name": "stdout",
     "output_type": "stream",
     "text": [
      "Running stage for 64 examples. At most 4 evaluations will be allowed.\n",
      "Obtained low-variance result for stage 6\n",
      "1\n",
      "slopes: []\n",
      "Obtained stable result for stage 6\n",
      "\n",
      "Observed score 0.686046511627907 for <class 'sklearn.naive_bayes.BernoulliNB'>\n",
      "r is now: 0.014534883720930258\n",
      "Checking learner <class 'sklearn.naive_bayes.MultinomialNB'>\n",
      "Running LCCV with timeout 5\n",
      "Setting target size to 135.0 as 90% of the original dataset.\n",
      "6 6 [4, 1]\n"
     ]
    },
    {
     "data": {
      "application/vnd.jupyter.widget-view+json": {
       "model_id": "04310b78557c4c0eb34d19e50f94d338",
       "version_major": 2,
       "version_minor": 0
      },
      "text/plain": [
       "HBox(children=(FloatProgress(value=0.0, max=1.0), HTML(value='')))"
      ]
     },
     "metadata": {},
     "output_type": "display_data"
    },
    {
     "name": "stdout",
     "output_type": "stream",
     "text": [
      "Running stage for 64 examples. At most 4 evaluations will be allowed.\n",
      "Obtained low-variance result for stage 6\n",
      "1\n",
      "slopes: []\n",
      "Obtained stable result for stage 6\n",
      "\n",
      "Observed score 0.2558139534883721 for <class 'sklearn.naive_bayes.MultinomialNB'>\n",
      "r is now: 0.014534883720930258\n",
      "Checking learner <class 'sklearn.neighbors._classification.KNeighborsClassifier'>\n",
      "Running LCCV with timeout 5\n",
      "Setting target size to 135.0 as 90% of the original dataset.\n",
      "6 6 [4, 1]\n"
     ]
    },
    {
     "data": {
      "application/vnd.jupyter.widget-view+json": {
       "model_id": "009a8d0606c44d24acedbff387a773dd",
       "version_major": 2,
       "version_minor": 0
      },
      "text/plain": [
       "HBox(children=(FloatProgress(value=0.0, max=1.0), HTML(value='')))"
      ]
     },
     "metadata": {},
     "output_type": "display_data"
    },
    {
     "name": "stdout",
     "output_type": "stream",
     "text": [
      "Running stage for 64 examples. At most 4 evaluations will be allowed.\n",
      "Obtained low-variance result for stage 6\n",
      "1\n",
      "slopes: []\n",
      "Obtained stable result for stage 6\n",
      "\n",
      "Observed score 0.08139534883720934 for <class 'sklearn.neighbors._classification.KNeighborsClassifier'>\n",
      "r is now: 0.014534883720930258\n",
      "Checking learner <class 'sklearn.ensemble._forest.ExtraTreesClassifier'>\n",
      "Running LCCV with timeout 5\n",
      "Setting target size to 135.0 as 90% of the original dataset.\n",
      "6 6 [4, 1]\n"
     ]
    },
    {
     "data": {
      "application/vnd.jupyter.widget-view+json": {
       "model_id": "8268fb2452dc4e3b9daecc1996f0a382",
       "version_major": 2,
       "version_minor": 0
      },
      "text/plain": [
       "HBox(children=(FloatProgress(value=0.0, max=1.0), HTML(value='')))"
      ]
     },
     "metadata": {},
     "output_type": "display_data"
    },
    {
     "name": "stdout",
     "output_type": "stream",
     "text": [
      "Running stage for 64 examples. At most 4 evaluations will be allowed.\n",
      "Obtained low-variance result for stage 6\n",
      "1\n",
      "slopes: []\n",
      "Obtained stable result for stage 6\n",
      "\n",
      "Observed score 0.03779069767441856 for <class 'sklearn.ensemble._forest.ExtraTreesClassifier'>\n",
      "r is now: 0.014534883720930258\n",
      "Checking learner <class 'sklearn.ensemble._forest.RandomForestClassifier'>\n",
      "Running LCCV with timeout 5\n",
      "Setting target size to 135.0 as 90% of the original dataset.\n",
      "6 6 [4, 1]\n"
     ]
    },
    {
     "data": {
      "application/vnd.jupyter.widget-view+json": {
       "model_id": "97c3de5d8f6a4ddda7b40a9b4a45933b",
       "version_major": 2,
       "version_minor": 0
      },
      "text/plain": [
       "HBox(children=(FloatProgress(value=0.0, max=1.0), HTML(value='')))"
      ]
     },
     "metadata": {},
     "output_type": "display_data"
    },
    {
     "name": "stdout",
     "output_type": "stream",
     "text": [
      "Running stage for 64 examples. At most 4 evaluations will be allowed.\n",
      "Obtained low-variance result for stage 6\n",
      "1\n",
      "slopes: []\n",
      "Obtained stable result for stage 6\n",
      "\n",
      "Observed score 0.03779069767441856 for <class 'sklearn.ensemble._forest.RandomForestClassifier'>\n",
      "r is now: 0.014534883720930258\n",
      "Checking learner <class 'sklearn.ensemble._gb.GradientBoostingClassifier'>\n",
      "Running LCCV with timeout 5\n",
      "Setting target size to 135.0 as 90% of the original dataset.\n",
      "6 6 [4, 1]\n"
     ]
    },
    {
     "data": {
      "application/vnd.jupyter.widget-view+json": {
       "model_id": "3c0a1cf14eac44cc82870497e15e7073",
       "version_major": 2,
       "version_minor": 0
      },
      "text/plain": [
       "HBox(children=(FloatProgress(value=0.0, max=1.0), HTML(value='')))"
      ]
     },
     "metadata": {},
     "output_type": "display_data"
    },
    {
     "name": "stdout",
     "output_type": "stream",
     "text": [
      "Running stage for 64 examples. At most 4 evaluations will be allowed.\n",
      "Obtained low-variance result for stage 6\n",
      "1\n",
      "slopes: []\n",
      "Obtained stable result for stage 6\n",
      "\n",
      "Observed score 0.03488372093023251 for <class 'sklearn.ensemble._gb.GradientBoostingClassifier'>\n",
      "r is now: 0.014534883720930258\n",
      "\n"
     ]
    },
    {
     "data": {
      "text/plain": [
       "(sklearn.neural_network._multilayer_perceptron.MLPClassifier,\n",
       " [0.05089759826660156,\n",
       "  0.022675037384033203,\n",
       "  0.021596670150756836,\n",
       "  0.0747520923614502,\n",
       "  0.026644229888916016,\n",
       "  0.023047208786010742,\n",
       "  0.023706912994384766,\n",
       "  0.027490615844726562,\n",
       "  0.3271346092224121,\n",
       "  0.02157115936279297,\n",
       "  0.020554780960083008,\n",
       "  0.02772212028503418,\n",
       "  0.026068687438964844,\n",
       "  0.034482717514038086,\n",
       "  0.3199760913848877,\n",
       "  0.3914656639099121,\n",
       "  0.4122450351715088])"
      ]
     },
     "execution_count": 4,
     "metadata": {},
     "output_type": "execute_result"
    }
   ],
   "source": [
    "select_model((lccv, lambda r: r[0]), [l[0] for l in learners], X, y, 5, 0.0)"
   ]
  },
  {
   "cell_type": "code",
   "execution_count": 9,
   "metadata": {
    "scrolled": true
   },
   "outputs": [
    {
     "data": {
      "application/vnd.jupyter.widget-view+json": {
       "model_id": "769ec3f5b0b64f7a91bd112c319ce323",
       "version_major": 2,
       "version_minor": 0
      },
      "text/plain": [
       "HBox(children=(FloatProgress(value=0.0, max=17.0), HTML(value='')))"
      ]
     },
     "metadata": {},
     "output_type": "display_data"
    },
    {
     "name": "stdout",
     "output_type": "stream",
     "text": [
      "Checking learner <class 'sklearn.svm._classes.LinearSVC'>\n",
      "Observed score 0.1333333333333333 for <class 'sklearn.svm._classes.LinearSVC'>\n",
      "r is now: 0.1333333333333333\n",
      "Checking learner <class 'sklearn.tree._classes.DecisionTreeClassifier'>\n",
      "Observed score 0.13999999999999996 for <class 'sklearn.tree._classes.DecisionTreeClassifier'>\n",
      "r is now: 0.1333333333333333\n",
      "Checking learner <class 'sklearn.tree._classes.ExtraTreeClassifier'>\n",
      "Observed score 0.12666666666666665 for <class 'sklearn.tree._classes.ExtraTreeClassifier'>\n",
      "r is now: 0.12666666666666665\n",
      "Checking learner <class 'sklearn.linear_model._logistic.LogisticRegression'>\n"
     ]
    },
    {
     "name": "stderr",
     "output_type": "stream",
     "text": [
      "/home/felix/anaconda3/lib/python3.7/site-packages/sklearn/svm/_base.py:986: ConvergenceWarning: Liblinear failed to converge, increase the number of iterations.\n",
      "  \"the number of iterations.\", ConvergenceWarning)\n",
      "/home/felix/anaconda3/lib/python3.7/site-packages/sklearn/svm/_base.py:986: ConvergenceWarning: Liblinear failed to converge, increase the number of iterations.\n",
      "  \"the number of iterations.\", ConvergenceWarning)\n",
      "/home/felix/anaconda3/lib/python3.7/site-packages/sklearn/svm/_base.py:986: ConvergenceWarning: Liblinear failed to converge, increase the number of iterations.\n",
      "  \"the number of iterations.\", ConvergenceWarning)\n",
      "/home/felix/anaconda3/lib/python3.7/site-packages/sklearn/svm/_base.py:986: ConvergenceWarning: Liblinear failed to converge, increase the number of iterations.\n",
      "  \"the number of iterations.\", ConvergenceWarning)\n",
      "/home/felix/anaconda3/lib/python3.7/site-packages/sklearn/svm/_base.py:986: ConvergenceWarning: Liblinear failed to converge, increase the number of iterations.\n",
      "  \"the number of iterations.\", ConvergenceWarning)\n",
      "/home/felix/anaconda3/lib/python3.7/site-packages/sklearn/svm/_base.py:986: ConvergenceWarning: Liblinear failed to converge, increase the number of iterations.\n",
      "  \"the number of iterations.\", ConvergenceWarning)\n",
      "/home/felix/anaconda3/lib/python3.7/site-packages/sklearn/svm/_base.py:986: ConvergenceWarning: Liblinear failed to converge, increase the number of iterations.\n",
      "  \"the number of iterations.\", ConvergenceWarning)\n",
      "/home/felix/anaconda3/lib/python3.7/site-packages/sklearn/svm/_base.py:986: ConvergenceWarning: Liblinear failed to converge, increase the number of iterations.\n",
      "  \"the number of iterations.\", ConvergenceWarning)\n",
      "/home/felix/anaconda3/lib/python3.7/site-packages/sklearn/svm/_base.py:986: ConvergenceWarning: Liblinear failed to converge, increase the number of iterations.\n",
      "  \"the number of iterations.\", ConvergenceWarning)\n",
      "/home/felix/anaconda3/lib/python3.7/site-packages/sklearn/svm/_base.py:986: ConvergenceWarning: Liblinear failed to converge, increase the number of iterations.\n",
      "  \"the number of iterations.\", ConvergenceWarning)\n"
     ]
    },
    {
     "name": "stdout",
     "output_type": "stream",
     "text": [
      "Observed score 0.0 for <class 'sklearn.linear_model._logistic.LogisticRegression'>\n",
      "r is now: 0.0\n",
      "Checking learner <class 'sklearn.linear_model._passive_aggressive.PassiveAggressiveClassifier'>\n",
      "Observed score 0.15333333333333332 for <class 'sklearn.linear_model._passive_aggressive.PassiveAggressiveClassifier'>\n",
      "r is now: 0.0\n",
      "Checking learner <class 'sklearn.linear_model._perceptron.Perceptron'>\n",
      "Observed score 0.2666666666666667 for <class 'sklearn.linear_model._perceptron.Perceptron'>\n",
      "r is now: 0.0\n",
      "Checking learner <class 'sklearn.linear_model._ridge.RidgeClassifier'>\n",
      "Observed score 0.1333333333333333 for <class 'sklearn.linear_model._ridge.RidgeClassifier'>\n",
      "r is now: 0.0\n",
      "Checking learner <class 'sklearn.linear_model._stochastic_gradient.SGDClassifier'>\n",
      "Observed score 0.12666666666666665 for <class 'sklearn.linear_model._stochastic_gradient.SGDClassifier'>\n",
      "r is now: 0.0\n",
      "Checking learner <class 'sklearn.neural_network._multilayer_perceptron.MLPClassifier'>\n"
     ]
    },
    {
     "name": "stderr",
     "output_type": "stream",
     "text": [
      "/home/felix/anaconda3/lib/python3.7/site-packages/sklearn/neural_network/_multilayer_perceptron.py:617: ConvergenceWarning: Stochastic Optimizer: Maximum iterations (200) reached and the optimization hasn't converged yet.\n",
      "  % self.max_iter, ConvergenceWarning)\n",
      "/home/felix/anaconda3/lib/python3.7/site-packages/sklearn/neural_network/_multilayer_perceptron.py:617: ConvergenceWarning: Stochastic Optimizer: Maximum iterations (200) reached and the optimization hasn't converged yet.\n",
      "  % self.max_iter, ConvergenceWarning)\n",
      "/home/felix/anaconda3/lib/python3.7/site-packages/sklearn/neural_network/_multilayer_perceptron.py:617: ConvergenceWarning: Stochastic Optimizer: Maximum iterations (200) reached and the optimization hasn't converged yet.\n",
      "  % self.max_iter, ConvergenceWarning)\n",
      "/home/felix/anaconda3/lib/python3.7/site-packages/sklearn/neural_network/_multilayer_perceptron.py:617: ConvergenceWarning: Stochastic Optimizer: Maximum iterations (200) reached and the optimization hasn't converged yet.\n",
      "  % self.max_iter, ConvergenceWarning)\n",
      "/home/felix/anaconda3/lib/python3.7/site-packages/sklearn/neural_network/_multilayer_perceptron.py:617: ConvergenceWarning: Stochastic Optimizer: Maximum iterations (200) reached and the optimization hasn't converged yet.\n",
      "  % self.max_iter, ConvergenceWarning)\n",
      "/home/felix/anaconda3/lib/python3.7/site-packages/sklearn/neural_network/_multilayer_perceptron.py:617: ConvergenceWarning: Stochastic Optimizer: Maximum iterations (200) reached and the optimization hasn't converged yet.\n",
      "  % self.max_iter, ConvergenceWarning)\n",
      "/home/felix/anaconda3/lib/python3.7/site-packages/sklearn/neural_network/_multilayer_perceptron.py:617: ConvergenceWarning: Stochastic Optimizer: Maximum iterations (200) reached and the optimization hasn't converged yet.\n",
      "  % self.max_iter, ConvergenceWarning)\n",
      "/home/felix/anaconda3/lib/python3.7/site-packages/sklearn/neural_network/_multilayer_perceptron.py:617: ConvergenceWarning: Stochastic Optimizer: Maximum iterations (200) reached and the optimization hasn't converged yet.\n",
      "  % self.max_iter, ConvergenceWarning)\n",
      "/home/felix/anaconda3/lib/python3.7/site-packages/sklearn/neural_network/_multilayer_perceptron.py:617: ConvergenceWarning: Stochastic Optimizer: Maximum iterations (200) reached and the optimization hasn't converged yet.\n",
      "  % self.max_iter, ConvergenceWarning)\n",
      "/home/felix/anaconda3/lib/python3.7/site-packages/sklearn/neural_network/_multilayer_perceptron.py:617: ConvergenceWarning: Stochastic Optimizer: Maximum iterations (200) reached and the optimization hasn't converged yet.\n",
      "  % self.max_iter, ConvergenceWarning)\n"
     ]
    },
    {
     "name": "stdout",
     "output_type": "stream",
     "text": [
      "Observed score 0.033333333333333326 for <class 'sklearn.neural_network._multilayer_perceptron.MLPClassifier'>\n",
      "r is now: 0.0\n",
      "Checking learner <class 'sklearn.discriminant_analysis.LinearDiscriminantAnalysis'>\n",
      "Observed score 0.06666666666666665 for <class 'sklearn.discriminant_analysis.LinearDiscriminantAnalysis'>\n",
      "r is now: 0.0\n",
      "Checking learner <class 'sklearn.discriminant_analysis.QuadraticDiscriminantAnalysis'>\n",
      "Observed score 0.06666666666666665 for <class 'sklearn.discriminant_analysis.QuadraticDiscriminantAnalysis'>\n",
      "r is now: 0.0\n",
      "Checking learner <class 'sklearn.naive_bayes.BernoulliNB'>\n",
      "Observed score 0.7333333333333334 for <class 'sklearn.naive_bayes.BernoulliNB'>\n",
      "r is now: 0.0\n",
      "Checking learner <class 'sklearn.naive_bayes.MultinomialNB'>\n",
      "Observed score 0.06666666666666665 for <class 'sklearn.naive_bayes.MultinomialNB'>\n",
      "r is now: 0.0\n",
      "Checking learner <class 'sklearn.neighbors._classification.KNeighborsClassifier'>\n",
      "Observed score 0.06666666666666665 for <class 'sklearn.neighbors._classification.KNeighborsClassifier'>\n",
      "r is now: 0.0\n",
      "Checking learner <class 'sklearn.ensemble._forest.ExtraTreesClassifier'>\n",
      "Observed score 0.07999999999999999 for <class 'sklearn.ensemble._forest.ExtraTreesClassifier'>\n",
      "r is now: 0.0\n",
      "Checking learner <class 'sklearn.ensemble._forest.RandomForestClassifier'>\n",
      "Observed score 0.07333333333333332 for <class 'sklearn.ensemble._forest.RandomForestClassifier'>\n",
      "r is now: 0.0\n",
      "Checking learner <class 'sklearn.ensemble._gb.GradientBoostingClassifier'>\n",
      "Observed score 0.06666666666666665 for <class 'sklearn.ensemble._gb.GradientBoostingClassifier'>\n",
      "r is now: 0.0\n",
      "\n"
     ]
    },
    {
     "data": {
      "text/plain": [
       "(sklearn.linear_model._logistic.LogisticRegression,\n",
       " [0.07246756553649902,\n",
       "  0.00953364372253418,\n",
       "  0.010849475860595703,\n",
       "  0.18564844131469727,\n",
       "  0.024857759475708008,\n",
       "  0.024504899978637695,\n",
       "  0.02113032341003418,\n",
       "  0.02845478057861328,\n",
       "  1.0397706031799316,\n",
       "  0.014397621154785156,\n",
       "  0.016103029251098633,\n",
       "  0.014956235885620117,\n",
       "  0.013817071914672852,\n",
       "  0.017985105514526367,\n",
       "  0.724872350692749,\n",
       "  0.992232084274292,\n",
       "  1.475348711013794])"
      ]
     },
     "execution_count": 9,
     "metadata": {},
     "output_type": "execute_result"
    }
   ],
   "source": [
    "select_model((mccv, lambda r: r[0]), [l[0] for l in learners], X, y, 5, 0.0)"
   ]
  },
  {
   "cell_type": "code",
   "execution_count": null,
   "metadata": {
    "scrolled": true
   },
   "outputs": [],
   "source": [
    "test_learners = [l[0] for l in learners]\n",
    "test_learners.reverse()\n",
    "for openmlid in tqdm(datasets_dense):\n",
    "    print(openmlid)\n",
    "    X, y = get_dataset(openmlid)\n",
    "    for validator in [mccv, lccv]:\n",
    "        print(\"-------------------------------\\n\" + validator.__name__ + \"\\n-------------------------------\")\n",
    "        time_start = time.time()\n",
    "        score, observations = evaluate_validator((validator, lambda r: r[0]), test_learners, X, y, 60, 0.0)\n",
    "        runtime = int(np.round(time.time() - time_start))\n",
    "        print(\"Runtime was \" + str(runtime) + \"s. Performance was \" + str(score))"
   ]
  }
 ],
 "metadata": {
  "kernelspec": {
   "display_name": "Python 3",
   "language": "python",
   "name": "python3"
  },
  "language_info": {
   "codemirror_mode": {
    "name": "ipython",
    "version": 3
   },
   "file_extension": ".py",
   "mimetype": "text/x-python",
   "name": "python",
   "nbconvert_exporter": "python",
   "pygments_lexer": "ipython3",
   "version": "3.7.7"
  }
 },
 "nbformat": 4,
 "nbformat_minor": 4
}
