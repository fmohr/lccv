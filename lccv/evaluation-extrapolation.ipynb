{
 "cells": [
  {
   "cell_type": "markdown",
   "metadata": {},
   "source": [
    "# Evaluation for Extrapolating the Learning Curves"
   ]
  },
  {
   "cell_type": "code",
   "execution_count": null,
   "metadata": {},
   "outputs": [],
   "source": [
    "import json\n",
    "import matplotlib.pyplot as plt\n",
    "import numpy as np\n",
    "import os\n",
    "\n",
    "%matplotlib inline\n",
    "\n",
    "directory = os.path.expanduser('~/experiments/lccv')"
   ]
  },
  {
   "cell_type": "code",
   "execution_count": null,
   "metadata": {},
   "outputs": [],
   "source": [
    "all_results = {}\n",
    "\n",
    "for task_dir in os.listdir(directory):\n",
    "    filename = os.path.join(directory, task_dir, 'result.json')\n",
    "    if os.path.isfile(filename):\n",
    "        with open(filename, 'r') as fp:\n",
    "            all_results[int(task_dir)] = json.load(fp)"
   ]
  },
  {
   "cell_type": "code",
   "execution_count": null,
   "metadata": {},
   "outputs": [],
   "source": [
    "all_results"
   ]
  },
  {
   "cell_type": "code",
   "execution_count": null,
   "metadata": {},
   "outputs": [],
   "source": [
    "deltas = []\n",
    "for task_id, task_results in all_results.items():\n",
    "    lccv_size = max(task_results['lccv'].keys())\n",
    "    current = task_results['lccv'][lccv_size]\n",
    "    prediction = task_results['prediction'][str(task_results['sizes'][1])]\n",
    "    actual = task_results['cv'][str(task_results['sizes'][1])]\n",
    "    delta = (current['mean']-prediction, current['mean']-actual['mean'])\n",
    "    deltas.append(delta)\n",
    "\n",
    "deltas = np.array(deltas)"
   ]
  },
  {
   "cell_type": "code",
   "execution_count": null,
   "metadata": {},
   "outputs": [],
   "source": [
    "\n",
    "plt.scatter(deltas[:,0], deltas[:, 1])"
   ]
  },
  {
   "cell_type": "code",
   "execution_count": null,
   "metadata": {},
   "outputs": [],
   "source": []
  }
 ],
 "metadata": {
  "kernelspec": {
   "display_name": "Python 3",
   "language": "python",
   "name": "python3"
  },
  "language_info": {
   "codemirror_mode": {
    "name": "ipython",
    "version": 3
   },
   "file_extension": ".py",
   "mimetype": "text/x-python",
   "name": "python",
   "nbconvert_exporter": "python",
   "pygments_lexer": "ipython3",
   "version": "3.9.4"
  }
 },
 "nbformat": 4,
 "nbformat_minor": 4
}
