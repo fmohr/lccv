{
 "cells": [
  {
   "cell_type": "markdown",
   "metadata": {},
   "source": [
    "# Evaluation for Extrapolating the Learning Curves"
   ]
  },
  {
   "cell_type": "code",
   "execution_count": null,
   "metadata": {},
   "outputs": [],
   "source": [
    "import matplotlib.pyplot as plt\n",
    "import numpy as np\n",
    "import os\n",
    "import pandas as pd\n",
    "\n",
    "%matplotlib inline\n",
    "\n",
    "results_file = os.path.expanduser('~/projects/lccv/lccv/data/extrapolation.csv')\n",
    "df = pd.read_csv(results_file)\n",
    "\n",
    "classifiers = df['classifier'].unique()"
   ]
  },
  {
   "cell_type": "code",
   "execution_count": null,
   "metadata": {
    "scrolled": false
   },
   "outputs": [],
   "source": [
    "for classifier in classifiers:\n",
    "    result_clf = df.loc[df['classifier'] == classifier]\n",
    "    \n",
    "    # for regression acc plot\n",
    "    perf = np.abs(result_clf['performance_next_point'] - result_clf['performance_prediction']).values\n",
    "    count, bins_count = np.histogram(perf, bins=1000)\n",
    "    pdf = count / sum(count)\n",
    "    cdf = np.cumsum(pdf)\n",
    "    \n",
    "    # for curve plot\n",
    "    curve_plot_x = np.arange(0, 1, 0.01)\n",
    "    curve_plot_y = []\n",
    "    for i in curve_plot_x:\n",
    "        cur_val = ((result_clf['performance_next_point'] < i) & (result_clf['performance_prediction'].values < i)) | ((result_clf['performance_next_point'].values >= i) & (result_clf['performance_prediction'].values >= i))\n",
    "        curve_plot_y.append(sum(cur_val) / len(cur_val)) \n",
    "    \n",
    "    fig, (ax1, ax2, ax3)  = plt.subplots(1, 3, figsize=(16,4))\n",
    "    fig.suptitle(classifier)\n",
    "    ax1.scatter(result_clf['delta_current_actual'], result_clf['delta_current_prediction'])\n",
    "    ax2.plot(bins_count[1:], cdf)\n",
    "    ax3.plot(curve_plot_x, curve_plot_y)\n",
    "    \n",
    "    plt.show()\n",
    "    print('results on %d tasks:' % len(result_clf['task_id']), result_clf['task_id'].values)"
   ]
  },
  {
   "cell_type": "code",
   "execution_count": null,
   "metadata": {},
   "outputs": [],
   "source": []
  }
 ],
 "metadata": {
  "kernelspec": {
   "display_name": "Python 3",
   "language": "python",
   "name": "python3"
  },
  "language_info": {
   "codemirror_mode": {
    "name": "ipython",
    "version": 3
   },
   "file_extension": ".py",
   "mimetype": "text/x-python",
   "name": "python",
   "nbconvert_exporter": "python",
   "pygments_lexer": "ipython3",
   "version": "3.9.4"
  }
 },
 "nbformat": 4,
 "nbformat_minor": 4
}
