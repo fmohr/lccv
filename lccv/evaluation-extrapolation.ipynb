{
 "cells": [
  {
   "cell_type": "markdown",
   "metadata": {},
   "source": [
    "# Evaluation for Extrapolating the Learning Curves"
   ]
  },
  {
   "cell_type": "code",
   "execution_count": null,
   "metadata": {},
   "outputs": [],
   "source": [
    "import matplotlib.pyplot as plt\n",
    "import numpy as np\n",
    "import os\n",
    "import pandas as pd\n",
    "\n",
    "%matplotlib inline\n",
    "\n",
    "results_file = os.path.expanduser('~/projects/lccv/lccv/data/extrapolation.csv')\n",
    "df = pd.read_csv(results_file)\n",
    "\n",
    "classifiers = df['classifier'].unique()"
   ]
  },
  {
   "cell_type": "code",
   "execution_count": null,
   "metadata": {},
   "outputs": [],
   "source": [
    "for classifier in classifiers:\n",
    "    result_clf = df.loc[df['classifier'] == classifier]\n",
    "    fig, ax = plt.subplots()\n",
    "    ax.set_title(classifier)\n",
    "    ax.scatter(result_clf['delta_current_prediction'], result_clf['delta_current_actual'])\n",
    "    plt.show()\n",
    "    print('results on %d tasks:' % len(result_clf['task_id']), result_clf['task_id'].values)"
   ]
  }
 ],
 "metadata": {
  "kernelspec": {
   "display_name": "Python 3",
   "language": "python",
   "name": "python3"
  },
  "language_info": {
   "codemirror_mode": {
    "name": "ipython",
    "version": 3
   },
   "file_extension": ".py",
   "mimetype": "text/x-python",
   "name": "python",
   "nbconvert_exporter": "python",
   "pygments_lexer": "ipython3",
   "version": "3.9.4"
  }
 },
 "nbformat": 4,
 "nbformat_minor": 4
}
