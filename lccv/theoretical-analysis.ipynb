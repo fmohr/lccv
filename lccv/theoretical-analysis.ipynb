{
 "cells": [
  {
   "cell_type": "code",
   "execution_count": 1,
   "metadata": {},
   "outputs": [],
   "source": [
    "import numpy as np"
   ]
  },
  {
   "cell_type": "code",
   "execution_count": 129,
   "metadata": {},
   "outputs": [
    {
     "name": "stdout",
     "output_type": "stream",
     "text": [
      "0 32 20 640\n",
      "1 64 16 1024\n",
      "2 128 13 1664\n",
      "3 256 11 2816\n",
      "4 512 9 4608\n",
      "5 1024 7 7168\n",
      "6 2048 6 12288\n",
      "7 4096 5 20480\n",
      "50688\n",
      "100000 to train on 4096\n"
     ]
    }
   ],
   "source": [
    "def getStagesAndBudgets(n, k = 10, alpha = .5, gamma = 2, min_anchor_points = 5):\n",
    "        \n",
    "    # derive basic sizes\n",
    "    d = int(np.floor(np.log(.9 * n) / np.log(2)))\n",
    "    ac = alpha * k\n",
    "    \n",
    "    # optimize for c and beta\n",
    "    c = min_anchor_points + 1\n",
    "    beta = (alpha / gamma)**(1/(c-min_anchor_points))\n",
    "    while np.sum([1/(2*beta)**i for i in range(c - min_anchor_points + 1)]) <= 2**(d-c)/alpha:\n",
    "        c += 1\n",
    "        beta = (alpha / gamma)**(1/(c-min_anchor_points))\n",
    "    c -= 1\n",
    "    beta = (alpha / gamma)**(1/(c-min_anchor_points))\n",
    "    \n",
    "    # define anchor points and time budgets\n",
    "    points = 2**np.array(range(min_anchor_points, c + 1))\n",
    "    budgets = []\n",
    "    for i, p in enumerate(points):\n",
    "        budgets.append(int(np.round(ac / (beta**(c-i - min_anchor_points)))))\n",
    "    return c, budgets\n",
    "    \n",
    "    \n",
    "dsize = 10000\n",
    "c, budgets = getStagesAndBudgets(dsize)\n",
    "\n",
    "    \n",
    "# compute runtimes\n",
    "runtime_per_instance = 1\n",
    "runtime_full_once = runtime_per_instance * dsize\n",
    "runtimes = []\n",
    "for i, p in enumerate(np.array([2**exp for exp in range(5, c + 1)])):\n",
    "    repeats = budgets[i]\n",
    "    runtime = runtime_per_instance * p * repeats\n",
    "\n",
    "    print(i, p, repeats, runtime)\n",
    "    runtimes.append(runtime)##\n",
    "\n",
    "print(int(np.round(sum(runtimes))))\n",
    "print(int(np.round(k * runtime_full_once)), \"to train on\", 2**d)"
   ]
  },
  {
   "cell_type": "code",
   "execution_count": 120,
   "metadata": {},
   "outputs": [
    {
     "data": {
      "text/plain": [
       "<function scipy.optimize._lsq.least_squares.least_squares(fun, x0, jac='2-point', bounds=(-inf, inf), method='trf', ftol=1e-08, xtol=1e-08, gtol=1e-08, x_scale=1.0, loss='linear', f_scale=1.0, diff_step=None, tr_solver=None, tr_options={}, jac_sparsity=None, max_nfev=None, verbose=0, args=(), kwargs={})>"
      ]
     },
     "execution_count": 120,
     "metadata": {},
     "output_type": "execute_result"
    }
   ],
   "source": [
    "import scipy.optimize\n",
    "\n",
    "def ipl(beta):\n",
    "    \n",
    "\n",
    "scipy.optimize.least_squares"
   ]
  }
 ],
 "metadata": {
  "kernelspec": {
   "display_name": "Python 3",
   "language": "python",
   "name": "python3"
  },
  "language_info": {
   "codemirror_mode": {
    "name": "ipython",
    "version": 3
   },
   "file_extension": ".py",
   "mimetype": "text/x-python",
   "name": "python",
   "nbconvert_exporter": "python",
   "pygments_lexer": "ipython3",
   "version": "3.7.7"
  }
 },
 "nbformat": 4,
 "nbformat_minor": 4
}
